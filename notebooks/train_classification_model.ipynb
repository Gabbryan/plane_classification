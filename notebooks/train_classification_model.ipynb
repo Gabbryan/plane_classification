{
  "nbformat": 4,
  "nbformat_minor": 0,
  "metadata": {
    "colab": {
      "name": "train_classification_model.ipynb",
      "provenance": [],
      "authorship_tag": "ABX9TyNmE2a8xYdDP54JMx1r91So",
      "include_colab_link": true
    },
    "kernelspec": {
      "name": "python3",
      "display_name": "Python 3"
    },
    "language_info": {
      "name": "python"
    }
  },
  "cells": [
    {
      "cell_type": "markdown",
      "metadata": {
        "id": "view-in-github",
        "colab_type": "text"
      },
      "source": [
        "<a href=\"https://colab.research.google.com/github/Gabbryan/plane_classification/blob/main/notebooks/train_classification_model.ipynb\" target=\"_parent\"><img src=\"https://colab.research.google.com/assets/colab-badge.svg\" alt=\"Open In Colab\"/></a>"
      ]
    },
    {
      "cell_type": "code",
      "execution_count": 1,
      "metadata": {
        "colab": {
          "base_uri": "https://localhost:8080/"
        },
        "id": "2S6sJGhbvDfg",
        "outputId": "636e6573-c721-4483-ba13-ec14668bd96c"
      },
      "outputs": [
        {
          "output_type": "stream",
          "name": "stdout",
          "text": [
            "  % Total    % Received % Xferd  Average Speed   Time    Time     Time  Current\n",
            "                                 Dload  Upload   Total   Spent    Left  Speed\n",
            "100 2625M  100 2625M    0     0  31.2M      0  0:01:23  0:01:23 --:--:-- 31.7M\n"
          ]
        }
      ],
      "source": [
        "!curl -O https://www.robots.ox.ac.uk/~vgg/data/fgvc-aircraft/archives/fgvc-aircraft-2013b.tar.gz\n",
        "!tar xzf fgvc-aircraft-2013b.tar.gz\n",
        "!mv fgvc-aircraft-2013b dataset"
      ]
    },
    {
      "cell_type": "markdown",
      "source": [
        "## Imports"
      ],
      "metadata": {
        "id": "vpfWOQG0w1eM"
      }
    },
    {
      "cell_type": "code",
      "source": [
        "import pathlib\n",
        "\n",
        "import matplotlib.pyplot as plt\n",
        "import numpy as np\n",
        "import pandas as pd\n",
        "import tensorflow as tf\n",
        "\n",
        "from keras.models import Sequential, load_model\n",
        "from keras.layers import Conv2D, MaxPool2D, Dense, Flatten, Dropout\n",
        "#from tensorflow.keras.utils import to_categorical\n",
        "\n",
        "from sklearn.model_selection import train_test_split\n",
        "\n",
        "from PIL import Image"
      ],
      "metadata": {
        "id": "6CPRbs5dvSrW"
      },
      "execution_count": 2,
      "outputs": []
    },
    {
      "cell_type": "markdown",
      "source": [
        "## Constantes\n"
      ],
      "metadata": {
        "id": "1M3RwKHzwptw"
      }
    },
    {
      "cell_type": "code",
      "source": [
        "DATA_DIR = pathlib.Path('dataset/data')\n",
        "\n",
        "IMAGE_WIDTH = 128\n",
        "IMAGE_HEIGHT = IMAGE_WIDTH\n",
        "IMAGE_DEPTH = 3"
      ],
      "metadata": {
        "id": "tCTctSTAwMNL"
      },
      "execution_count": 6,
      "outputs": []
    },
    {
      "cell_type": "code",
      "source": [
        "manufacturer_df = pd.read_csv(DATA_DIR / 'images_manufacturer_train.txt', sep=' ',\n",
        "            names=['image_id', 'manufacturer'],\n",
        "            usecols=['image_id', 'manufacturer'], # usecols for v1.4 compatibility\n",
        "            dtype={'image_id': str},              # ids are not int but string\n",
        "           )"
      ],
      "metadata": {
        "id": "oXHxkj9jwK5x"
      },
      "execution_count": 7,
      "outputs": []
    },
    {
      "cell_type": "markdown",
      "source": [
        "## Verify data\n",
        "\n"
      ],
      "metadata": {
        "id": "f4_gRfplwuv-"
      }
    },
    {
      "cell_type": "code",
      "source": [
        "manufacturer_df['manufacturer'].value_counts(dropna=False)"
      ],
      "metadata": {
        "colab": {
          "base_uri": "https://localhost:8080/"
        },
        "id": "V8-Cm-MxwJyA",
        "outputId": "453a8b12-df28-4291-a450-6938a398ec1a"
      },
      "execution_count": 12,
      "outputs": [
        {
          "output_type": "execute_result",
          "data": {
            "text/plain": [
              "Boeing         733\n",
              "Airbus         434\n",
              "Embraer        233\n",
              "McDonnell      232\n",
              "de             167\n",
              "Canadair       134\n",
              "Douglas        133\n",
              "Cessna         133\n",
              "British        133\n",
              "Lockheed       102\n",
              "Fokker         100\n",
              "Dassault        67\n",
              "Gulfstream      67\n",
              "Beechcraft      67\n",
              "Saab            67\n",
              "Tupolev         66\n",
              "ATR             66\n",
              "Panavia         34\n",
              "Antonov         34\n",
              "Dornier         34\n",
              "Yakovlev        34\n",
              "Bombardier      33\n",
              "Ilyushin        33\n",
              "Fairchild       33\n",
              "Piper           33\n",
              "Cirrus          33\n",
              "Eurofighter     33\n",
              "Supermarine     33\n",
              "Robin           33\n",
              "Name: manufacturer, dtype: int64"
            ]
          },
          "metadata": {},
          "execution_count": 12
        }
      ]
    },
    {
      "cell_type": "code",
      "source": [
        "manufacturer_df.isna().sum()\n"
      ],
      "metadata": {
        "colab": {
          "base_uri": "https://localhost:8080/"
        },
        "id": "aSPHPmZnz5ZJ",
        "outputId": "e38e3d37-474d-43bd-a557-2988eac95e5a"
      },
      "execution_count": 13,
      "outputs": [
        {
          "output_type": "execute_result",
          "data": {
            "text/plain": [
              "image_id        0\n",
              "manufacturer    0\n",
              "dtype: int64"
            ]
          },
          "metadata": {},
          "execution_count": 13
        }
      ]
    },
    {
      "cell_type": "code",
      "source": [
        "assert manufacturer_df['image_id'].isna().sum() == 0, \"Valeur manquante dans image_id\"\n",
        "assert manufacturer_df['manufacturer'].isna().sum() == 0, \"Valeur manquante dans manufacturer\""
      ],
      "metadata": {
        "id": "_lYjxkTxw3x9"
      },
      "execution_count": 16,
      "outputs": []
    },
    {
      "cell_type": "markdown",
      "source": [
        "## Deal with N columns\n"
      ],
      "metadata": {
        "id": "VuGm8SaK1Wab"
      }
    },
    {
      "cell_type": "code",
      "source": [
        "!grep ',' dataset/data/images_manufacturer_train.txt"
      ],
      "metadata": {
        "id": "w8oyMtdT1hvR"
      },
      "execution_count": 17,
      "outputs": []
    },
    {
      "cell_type": "code",
      "source": [
        "# Recherche le caractère T dans le fichier et n'affiche que trois lignes (head -3)\n",
        "! grep 'T' dataset/data/images_manufacturer_train.txt | head -3"
      ],
      "metadata": {
        "colab": {
          "base_uri": "https://localhost:8080/"
        },
        "id": "BWsdIkZ-0m7S",
        "outputId": "19caed2f-fe19-48b0-d15c-9de20515c306"
      },
      "execution_count": 18,
      "outputs": [
        {
          "output_type": "stream",
          "name": "stdout",
          "text": [
            "0724121 ATR\n",
            "0619697 ATR\n",
            "2243949 ATR\n"
          ]
        }
      ]
    },
    {
      "cell_type": "code",
      "source": [
        "# wc : compte le nombre d'éléments (-l : ligne, -c : caractère, -w : word)\n",
        "! grep 'T' dataset/data/images_manufacturer_train.txt | wc -l"
      ],
      "metadata": {
        "colab": {
          "base_uri": "https://localhost:8080/"
        },
        "id": "LIl6XzRi12ZJ",
        "outputId": "8edb5d26-8f2d-4fe6-9615-53df2e8245db"
      },
      "execution_count": 24,
      "outputs": [
        {
          "output_type": "stream",
          "name": "stdout",
          "text": [
            "132\n"
          ]
        }
      ]
    },
    {
      "cell_type": "code",
      "source": [
        "!cut -f 1 -d ' ' dataset/data/images_manufacturer_train.txt | head -3\n"
      ],
      "metadata": {
        "colab": {
          "base_uri": "https://localhost:8080/"
        },
        "id": "80JETe0g3Ji1",
        "outputId": "f147db51-05e7-4d4a-ca08-9da37e828f8a"
      },
      "execution_count": 25,
      "outputs": [
        {
          "output_type": "stream",
          "name": "stdout",
          "text": [
            "1025794\n",
            "1340192\n",
            "0056978\n"
          ]
        }
      ]
    },
    {
      "cell_type": "code",
      "source": [
        "manufacturer_df = pd.read_csv(DATA_DIR / 'images_manufacturer_train.txt', sep='\\t',\n",
        "            names=['all'],\n",
        "            dtype={'all': str},              # ids are not int but string\n",
        "           )\n",
        "\n",
        "# La fonction split() découpe une chaîne de caractères\n",
        "manufacturer_df['image_id'] = manufacturer_df['all'].apply(lambda x: x.split(' ')[0])\n",
        "\n",
        "# La fonction '<car>'.join(liste) concatène les éléments de liste en utilisant le séparateur <car>\n",
        "manufacturer_df['manufacturer'] = manufacturer_df['all'].apply(lambda x: ' '.join(x.split(' ')[1:]))"
      ],
      "metadata": {
        "id": "QOyVfMtZ3IR7"
      },
      "execution_count": 53,
      "outputs": []
    },
    {
      "cell_type": "code",
      "source": [
        "manufacturer_df['manufacturer']"
      ],
      "metadata": {
        "colab": {
          "base_uri": "https://localhost:8080/"
        },
        "id": "dqchmQs23CGw",
        "outputId": "16b156c1-1742-4792-998e-6151add89002"
      },
      "execution_count": 54,
      "outputs": [
        {
          "output_type": "execute_result",
          "data": {
            "text/plain": [
              "0         Boeing\n",
              "1         Boeing\n",
              "2         Boeing\n",
              "3         Boeing\n",
              "4         Boeing\n",
              "          ...   \n",
              "3329    Yakovlev\n",
              "3330    Yakovlev\n",
              "3331    Yakovlev\n",
              "3332    Yakovlev\n",
              "3333    Yakovlev\n",
              "Name: manufacturer, Length: 3334, dtype: object"
            ]
          },
          "metadata": {},
          "execution_count": 54
        }
      ]
    },
    {
      "cell_type": "code",
      "source": [
        "manufacturer_df['manufacturer'].unique()"
      ],
      "metadata": {
        "colab": {
          "base_uri": "https://localhost:8080/"
        },
        "id": "TkAIzCmX5WgX",
        "outputId": "8579b27a-d670-4bce-f7ae-cc214130f111"
      },
      "execution_count": 55,
      "outputs": [
        {
          "output_type": "execute_result",
          "data": {
            "text/plain": [
              "array(['Boeing', 'Airbus', 'ATR', 'Antonov', 'British Aerospace',\n",
              "       'Beechcraft', 'Lockheed Corporation', 'Douglas Aircraft Company',\n",
              "       'Canadair', 'Cessna', 'McDonnell Douglas', 'de Havilland', 'Robin',\n",
              "       'Dornier', 'Embraer', 'Eurofighter', 'Lockheed Martin',\n",
              "       'Dassault Aviation', 'Fokker', 'Bombardier Aerospace',\n",
              "       'Gulfstream Aerospace', 'Ilyushin', 'Fairchild', 'Piper',\n",
              "       'Cirrus Aircraft', 'Saab', 'Supermarine', 'Panavia', 'Tupolev',\n",
              "       'Yakovlev'], dtype=object)"
            ]
          },
          "metadata": {},
          "execution_count": 55
        }
      ]
    },
    {
      "cell_type": "code",
      "source": [
        "manufacturer_df.head()"
      ],
      "metadata": {
        "colab": {
          "base_uri": "https://localhost:8080/",
          "height": 206
        },
        "id": "q7pldG3F3BKE",
        "outputId": "31c5fa77-4f7c-4db1-e4b3-8409330033ef"
      },
      "execution_count": 56,
      "outputs": [
        {
          "output_type": "execute_result",
          "data": {
            "text/plain": [
              "              all image_id manufacturer\n",
              "0  1025794 Boeing  1025794       Boeing\n",
              "1  1340192 Boeing  1340192       Boeing\n",
              "2  0056978 Boeing  0056978       Boeing\n",
              "3  0698580 Boeing  0698580       Boeing\n",
              "4  0450014 Boeing  0450014       Boeing"
            ],
            "text/html": [
              "\n",
              "  <div id=\"df-8b9ccad8-431f-406e-9fb3-b53186e8ab9a\">\n",
              "    <div class=\"colab-df-container\">\n",
              "      <div>\n",
              "<style scoped>\n",
              "    .dataframe tbody tr th:only-of-type {\n",
              "        vertical-align: middle;\n",
              "    }\n",
              "\n",
              "    .dataframe tbody tr th {\n",
              "        vertical-align: top;\n",
              "    }\n",
              "\n",
              "    .dataframe thead th {\n",
              "        text-align: right;\n",
              "    }\n",
              "</style>\n",
              "<table border=\"1\" class=\"dataframe\">\n",
              "  <thead>\n",
              "    <tr style=\"text-align: right;\">\n",
              "      <th></th>\n",
              "      <th>all</th>\n",
              "      <th>image_id</th>\n",
              "      <th>manufacturer</th>\n",
              "    </tr>\n",
              "  </thead>\n",
              "  <tbody>\n",
              "    <tr>\n",
              "      <th>0</th>\n",
              "      <td>1025794 Boeing</td>\n",
              "      <td>1025794</td>\n",
              "      <td>Boeing</td>\n",
              "    </tr>\n",
              "    <tr>\n",
              "      <th>1</th>\n",
              "      <td>1340192 Boeing</td>\n",
              "      <td>1340192</td>\n",
              "      <td>Boeing</td>\n",
              "    </tr>\n",
              "    <tr>\n",
              "      <th>2</th>\n",
              "      <td>0056978 Boeing</td>\n",
              "      <td>0056978</td>\n",
              "      <td>Boeing</td>\n",
              "    </tr>\n",
              "    <tr>\n",
              "      <th>3</th>\n",
              "      <td>0698580 Boeing</td>\n",
              "      <td>0698580</td>\n",
              "      <td>Boeing</td>\n",
              "    </tr>\n",
              "    <tr>\n",
              "      <th>4</th>\n",
              "      <td>0450014 Boeing</td>\n",
              "      <td>0450014</td>\n",
              "      <td>Boeing</td>\n",
              "    </tr>\n",
              "  </tbody>\n",
              "</table>\n",
              "</div>\n",
              "      <button class=\"colab-df-convert\" onclick=\"convertToInteractive('df-8b9ccad8-431f-406e-9fb3-b53186e8ab9a')\"\n",
              "              title=\"Convert this dataframe to an interactive table.\"\n",
              "              style=\"display:none;\">\n",
              "        \n",
              "  <svg xmlns=\"http://www.w3.org/2000/svg\" height=\"24px\"viewBox=\"0 0 24 24\"\n",
              "       width=\"24px\">\n",
              "    <path d=\"M0 0h24v24H0V0z\" fill=\"none\"/>\n",
              "    <path d=\"M18.56 5.44l.94 2.06.94-2.06 2.06-.94-2.06-.94-.94-2.06-.94 2.06-2.06.94zm-11 1L8.5 8.5l.94-2.06 2.06-.94-2.06-.94L8.5 2.5l-.94 2.06-2.06.94zm10 10l.94 2.06.94-2.06 2.06-.94-2.06-.94-.94-2.06-.94 2.06-2.06.94z\"/><path d=\"M17.41 7.96l-1.37-1.37c-.4-.4-.92-.59-1.43-.59-.52 0-1.04.2-1.43.59L10.3 9.45l-7.72 7.72c-.78.78-.78 2.05 0 2.83L4 21.41c.39.39.9.59 1.41.59.51 0 1.02-.2 1.41-.59l7.78-7.78 2.81-2.81c.8-.78.8-2.07 0-2.86zM5.41 20L4 18.59l7.72-7.72 1.47 1.35L5.41 20z\"/>\n",
              "  </svg>\n",
              "      </button>\n",
              "      \n",
              "  <style>\n",
              "    .colab-df-container {\n",
              "      display:flex;\n",
              "      flex-wrap:wrap;\n",
              "      gap: 12px;\n",
              "    }\n",
              "\n",
              "    .colab-df-convert {\n",
              "      background-color: #E8F0FE;\n",
              "      border: none;\n",
              "      border-radius: 50%;\n",
              "      cursor: pointer;\n",
              "      display: none;\n",
              "      fill: #1967D2;\n",
              "      height: 32px;\n",
              "      padding: 0 0 0 0;\n",
              "      width: 32px;\n",
              "    }\n",
              "\n",
              "    .colab-df-convert:hover {\n",
              "      background-color: #E2EBFA;\n",
              "      box-shadow: 0px 1px 2px rgba(60, 64, 67, 0.3), 0px 1px 3px 1px rgba(60, 64, 67, 0.15);\n",
              "      fill: #174EA6;\n",
              "    }\n",
              "\n",
              "    [theme=dark] .colab-df-convert {\n",
              "      background-color: #3B4455;\n",
              "      fill: #D2E3FC;\n",
              "    }\n",
              "\n",
              "    [theme=dark] .colab-df-convert:hover {\n",
              "      background-color: #434B5C;\n",
              "      box-shadow: 0px 1px 3px 1px rgba(0, 0, 0, 0.15);\n",
              "      filter: drop-shadow(0px 1px 2px rgba(0, 0, 0, 0.3));\n",
              "      fill: #FFFFFF;\n",
              "    }\n",
              "  </style>\n",
              "\n",
              "      <script>\n",
              "        const buttonEl =\n",
              "          document.querySelector('#df-8b9ccad8-431f-406e-9fb3-b53186e8ab9a button.colab-df-convert');\n",
              "        buttonEl.style.display =\n",
              "          google.colab.kernel.accessAllowed ? 'block' : 'none';\n",
              "\n",
              "        async function convertToInteractive(key) {\n",
              "          const element = document.querySelector('#df-8b9ccad8-431f-406e-9fb3-b53186e8ab9a');\n",
              "          const dataTable =\n",
              "            await google.colab.kernel.invokeFunction('convertToInteractive',\n",
              "                                                     [key], {});\n",
              "          if (!dataTable) return;\n",
              "\n",
              "          const docLinkHtml = 'Like what you see? Visit the ' +\n",
              "            '<a target=\"_blank\" href=https://colab.research.google.com/notebooks/data_table.ipynb>data table notebook</a>'\n",
              "            + ' to learn more about interactive tables.';\n",
              "          element.innerHTML = '';\n",
              "          dataTable['output_type'] = 'display_data';\n",
              "          await google.colab.output.renderOutput(dataTable, element);\n",
              "          const docLink = document.createElement('div');\n",
              "          docLink.innerHTML = docLinkHtml;\n",
              "          element.appendChild(docLink);\n",
              "        }\n",
              "      </script>\n",
              "    </div>\n",
              "  </div>\n",
              "  "
            ]
          },
          "metadata": {},
          "execution_count": 56
        }
      ]
    },
    {
      "cell_type": "code",
      "source": [
        "def build_image_database(path):\n",
        "  \"\"\"Build a pandas dataframe with target class and access path to images.\n",
        "\n",
        "  Parameters\n",
        "  ----------\n",
        "  path (Path): path pattern to read csv file containing images information.\n",
        "\n",
        "  Returns\n",
        "  -------\n",
        "  A pandas dataframe, including target class and path to image.\n",
        "  \"\"\"\n",
        "  manufacturer_df = pd.read_csv(path, sep='\\t',\n",
        "              names=['all'],\n",
        "              dtype={'all': str},              # ids are not int but string\n",
        "            )\n",
        "\n",
        "  # La fonction split() découpe une chaîne de caractères\n",
        "  manufacturer_df['image_id'] = manufacturer_df['all'].apply(lambda x: x.split(' ')[0])\n",
        "\n",
        "  # La fonction '<car>'.join(liste) concatène les éléments de liste en utilisant le séparateur <car>\n",
        "  manufacturer_df['manufacturer'] = manufacturer_df['all'].apply(lambda x: ' '.join(x.split(' ')[1:]))\n",
        "\n",
        "  # La colonne path contient le chemin d'accès à l'image\n",
        "  manufacturer_df['path'] = manufacturer_df['image_id'].apply(lambda x: pathlib.Path('dataset/data/images') / (x + '.jpg'))\n",
        "\n",
        "  return manufacturer_df"
      ],
      "metadata": {
        "id": "FKP1kxl41-3X"
      },
      "execution_count": null,
      "outputs": []
    }
  ]
}