{
  "nbformat": 4,
  "nbformat_minor": 0,
  "metadata": {
    "colab": {
      "name": "data_download.ipynb",
      "provenance": [],
      "include_colab_link": true
    },
    "kernelspec": {
      "name": "python3",
      "display_name": "Python 3"
    },
    "language_info": {
      "name": "python"
    }
  },
  "cells": [
    {
      "cell_type": "markdown",
      "metadata": {
        "id": "view-in-github",
        "colab_type": "text"
      },
      "source": [
        "<a href=\"https://colab.research.google.com/github/Gabbryan/plane_classification/blob/main/notebooks/data_download.ipynb\" target=\"_parent\"><img src=\"https://colab.research.google.com/assets/colab-badge.svg\" alt=\"Open In Colab\"/></a>"
      ]
    },
    {
      "cell_type": "markdown",
      "source": [
        "# Download images & annotations"
      ],
      "metadata": {
        "id": "LkN6Ih4Y_8we"
      }
    },
    {
      "cell_type": "code",
      "execution_count": 2,
      "metadata": {
        "colab": {
          "base_uri": "https://localhost:8080/"
        },
        "id": "McKz6YK66Rai",
        "outputId": "3d673538-42c6-4b49-dc21-c537ecc3f047"
      },
      "outputs": [
        {
          "output_type": "stream",
          "name": "stdout",
          "text": [
            "  % Total    % Received % Xferd  Average Speed   Time    Time     Time  Current\n",
            "                                 Dload  Upload   Total   Spent    Left  Speed\n",
            "100 2625M  100 2625M    0     0  20.9M      0  0:02:05  0:02:05 --:--:-- 20.3M\n"
          ]
        }
      ],
      "source": [
        "# curl : download data and save to file\n",
        "!curl -O https://www.robots.ox.ac.uk/~vgg/data/fgvc-aircraft/archives/fgvc-aircraft-2013b.tar.gz"
      ]
    },
    {
      "cell_type": "code",
      "source": [
        "# Fichiers tar\n",
        "# commandes :\n",
        "#   x : extraire\n",
        "#   t : lister les fichiers sans décompresser\n",
        "#   v : pour avoir du détail (verbose)\n",
        "#   z : le fichier est compressé\n",
        "#   c : créer un tarfile\n",
        "#   f : pour indiquer le nom du fichier (en dernier dans la liste des options)\n",
        "#\n",
        "# Exemple pour lister les fichiers avant de décompresser\n",
        "!tar tzvf fgvc-aircraft-2013b.tar.gz"
      ],
      "metadata": {
        "id": "Bh4h8pVg7N7Z"
      },
      "execution_count": null,
      "outputs": []
    },
    {
      "cell_type": "markdown",
      "source": [
        "## Untar files"
      ],
      "metadata": {
        "id": "An7bvakOADHm"
      }
    },
    {
      "cell_type": "code",
      "source": [
        "!tar xzf fgvc-aircraft-2013b.tar.gz"
      ],
      "metadata": {
        "id": "vBtpWctQ-hGO"
      },
      "execution_count": null,
      "outputs": []
    },
    {
      "cell_type": "markdown",
      "source": [
        "## Rename dataset"
      ],
      "metadata": {
        "id": "iiIomZEoYIGr"
      }
    },
    {
      "cell_type": "code",
      "source": [
        "!mv fgvc-aircraft-2013b dataset"
      ],
      "metadata": {
        "id": "Jn7s6G2E_Qku"
      },
      "execution_count": null,
      "outputs": []
    }
  ]
}